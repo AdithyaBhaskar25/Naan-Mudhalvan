{
  "nbformat": 4,
  "nbformat_minor": 0,
  "metadata": {
    "colab": {
      "provenance": []
    },
    "kernelspec": {
      "name": "python3",
      "display_name": "Python 3"
    },
    "language_info": {
      "name": "python"
    }
  },
  "cells": [
    {
      "cell_type": "markdown",
      "source": [
        "# 1️⃣ Storing Patient Data (Variable Assignment)\n",
        "\n",
        "create variables for patient details"
      ],
      "metadata": {
        "id": "mFxXD6ieUGM-"
      }
    },
    {
      "cell_type": "code",
      "source": [
        "from google.colab import files"
      ],
      "metadata": {
        "id": "RpNETKV3XC6M"
      },
      "execution_count": 9,
      "outputs": []
    },
    {
      "cell_type": "code",
      "execution_count": 10,
      "metadata": {
        "colab": {
          "base_uri": "https://localhost:8080/"
        },
        "id": "rnyCflt3TthU",
        "outputId": "5dbe7acb-3ab1-4a26-ab66-9121d4d1c9bb"
      },
      "outputs": [
        {
          "output_type": "stream",
          "name": "stdout",
          "text": [
            "Patient: John Doe, Age: 45, BMI: 27.5\n"
          ]
        }
      ],
      "source": [
        "patient_name = \"John Doe\"\n",
        "patient_age = 45\n",
        "patient_bmi = 27.5\n",
        "\n",
        "print(f\"Patient: {patient_name}, Age: {patient_age}, BMI: {patient_bmi}\")"
      ]
    },
    {
      "cell_type": "markdown",
      "source": [
        "# 2️⃣ BMI Category Calculation (Arithmetic Operations)\n",
        "\n",
        "\n",
        "Define a function to classify BMI:"
      ],
      "metadata": {
        "id": "6CukjKs5U9GY"
      }
    },
    {
      "cell_type": "code",
      "source": [
        "def get_bmi_category(bmi):\n",
        "    if bmi < 18.5:\n",
        "        return \"Underweight\"\n",
        "    elif 18.5 <= bmi < 24.9:\n",
        "        return \"Normal weight\"\n",
        "    elif 25 <= bmi < 29.9:\n",
        "        return \"Overweight\"\n",
        "    else:\n",
        "        return \"Obese\"\n",
        "\n",
        "bmi_category = get_bmi_category(patient_bmi)\n",
        "print(f\"BMI Category: {bmi_category}\")\n"
      ],
      "metadata": {
        "colab": {
          "base_uri": "https://localhost:8080/"
        },
        "id": "gwTj1DZhT9BJ",
        "outputId": "60f14014-359c-45fa-982f-bd0f776f8547"
      },
      "execution_count": 12,
      "outputs": [
        {
          "output_type": "stream",
          "name": "stdout",
          "text": [
            "BMI Category: Overweight\n"
          ]
        }
      ]
    },
    {
      "cell_type": "markdown",
      "source": [
        "# 3️⃣ Analyzing Heart Rate Data (NumPy Basics)\n",
        "\n",
        "\n",
        "Store a week's heart rate readings and calculate statistics:"
      ],
      "metadata": {
        "id": "dwviScDDVMYk"
      }
    },
    {
      "cell_type": "code",
      "source": [
        "import numpy as np\n",
        "\n",
        "heart_rates = np.array([72, 75, 78, 80, 76, 74, 73])\n",
        "avg_hr = np.mean(heart_rates)\n",
        "max_hr = np.max(heart_rates)\n",
        "min_hr = np.min(heart_rates)\n",
        "\n",
        "print(f\"Avg Heart Rate: {avg_hr}, Max: {max_hr}, Min: {min_hr}\")\n"
      ],
      "metadata": {
        "colab": {
          "base_uri": "https://localhost:8080/"
        },
        "id": "O0AD2EO1VQxu",
        "outputId": "42c611cd-2e26-4120-addb-91f254203bef"
      },
      "execution_count": 13,
      "outputs": [
        {
          "output_type": "stream",
          "name": "stdout",
          "text": [
            "Avg Heart Rate: 75.42857142857143, Max: 80, Min: 72\n"
          ]
        }
      ]
    },
    {
      "cell_type": "markdown",
      "source": [
        "# 4️⃣ Creating a Patient Record (Pandas Basics)\n",
        "\n",
        "\n",
        "Create a Pandas DataFrame for patient data:"
      ],
      "metadata": {
        "id": "VHloMu8FVVip"
      }
    },
    {
      "cell_type": "code",
      "source": [
        "import pandas as pd\n",
        "\n",
        "data = {\n",
        "    \"Name\": [\"John Doe\", \"Jane Smith\", \"Alex Brown\", \"Mary Johnson\"],\n",
        "    \"Age\": [45, 50, 38, 60],\n",
        "    \"BMI\": [27.5, 31.2, 22.4, 29.8],\n",
        "    \"Cholesterol\": [220, 250, 180, 240]\n",
        "}\n",
        "\n",
        "df = pd.DataFrame(data)\n",
        "print(\"\\nPatient DataFrame:\\n\", df)\n"
      ],
      "metadata": {
        "colab": {
          "base_uri": "https://localhost:8080/"
        },
        "id": "GF4gJsgFVa8n",
        "outputId": "887bc038-cbd9-41f4-c6a8-d2756389f540"
      },
      "execution_count": 14,
      "outputs": [
        {
          "output_type": "stream",
          "name": "stdout",
          "text": [
            "\n",
            "Patient DataFrame:\n",
            "            Name  Age   BMI  Cholesterol\n",
            "0      John Doe   45  27.5          220\n",
            "1    Jane Smith   50  31.2          250\n",
            "2    Alex Brown   38  22.4          180\n",
            "3  Mary Johnson   60  29.8          240\n"
          ]
        }
      ]
    },
    {
      "cell_type": "markdown",
      "source": [
        "# 5️⃣ Filtering High-Risk Patients (Data Manipulation)\n",
        "\n",
        "\n",
        "Filter patients with cholesterol levels above 230:"
      ],
      "metadata": {
        "id": "WWPkAgp8VeyY"
      }
    },
    {
      "cell_type": "code",
      "source": [
        "high_risk_patients = df[df[\"Cholesterol\"] > 230]\n",
        "print(\"\\nHigh-Risk Patients:\\n\", high_risk_patients)"
      ],
      "metadata": {
        "colab": {
          "base_uri": "https://localhost:8080/"
        },
        "id": "EIW8wMCNVjWT",
        "outputId": "852e5beb-e363-47b2-ccff-eb4d00a4ffee"
      },
      "execution_count": 15,
      "outputs": [
        {
          "output_type": "stream",
          "name": "stdout",
          "text": [
            "\n",
            "High-Risk Patients:\n",
            "            Name  Age   BMI  Cholesterol\n",
            "1    Jane Smith   50  31.2          250\n",
            "3  Mary Johnson   60  29.8          240\n"
          ]
        }
      ]
    },
    {
      "cell_type": "markdown",
      "source": [
        "# 6️⃣ Sorting Patients by BMI\n",
        "\n",
        "Sort patients from highest to lowest BMI:"
      ],
      "metadata": {
        "id": "2DtEhW3KVo-w"
      }
    },
    {
      "cell_type": "code",
      "source": [
        "df_sorted = df.sort_values(by=\"BMI\", ascending=False)\n",
        "print(\"\\nSorted Patients by BMI:\\n\", df_sorted)"
      ],
      "metadata": {
        "colab": {
          "base_uri": "https://localhost:8080/"
        },
        "id": "RiUSDHHnVoR5",
        "outputId": "849247d1-1d82-4b33-e0f6-3b9dc5383154"
      },
      "execution_count": 16,
      "outputs": [
        {
          "output_type": "stream",
          "name": "stdout",
          "text": [
            "\n",
            "Sorted Patients by BMI:\n",
            "            Name  Age   BMI  Cholesterol\n",
            "1    Jane Smith   50  31.2          250\n",
            "3  Mary Johnson   60  29.8          240\n",
            "0      John Doe   45  27.5          220\n",
            "2    Alex Brown   38  22.4          180\n"
          ]
        }
      ]
    },
    {
      "cell_type": "markdown",
      "source": [
        "# 7️⃣ Adding a Risk Level Column\n",
        "\n",
        "\n",
        "Classify patients into Low, Medium, or High Risk:"
      ],
      "metadata": {
        "id": "shLOFeaZV1Ey"
      }
    },
    {
      "cell_type": "code",
      "source": [
        "def classify_risk_level(bmi, cholesterol):\n",
        "    if bmi > 30 or cholesterol > 230:\n",
        "        return \"High\"\n",
        "    elif bmi > 25 or cholesterol > 200:\n",
        "        return \"Medium\"\n",
        "    else:\n",
        "        return \"Low\"\n",
        "\n",
        "df[\"Risk Level\"] = df.apply(lambda row: classify_risk_level(row[\"BMI\"], row[\"Cholesterol\"]), axis=1)\n",
        "print(\"\\nUpdated DataFrame with Risk Level:\\n\", df)"
      ],
      "metadata": {
        "colab": {
          "base_uri": "https://localhost:8080/"
        },
        "id": "4U_5FNumV8gZ",
        "outputId": "05ec4a76-8a43-4149-badc-7f6561975e7a"
      },
      "execution_count": 17,
      "outputs": [
        {
          "output_type": "stream",
          "name": "stdout",
          "text": [
            "\n",
            "Updated DataFrame with Risk Level:\n",
            "            Name  Age   BMI  Cholesterol Risk Level\n",
            "0      John Doe   45  27.5          220     Medium\n",
            "1    Jane Smith   50  31.2          250       High\n",
            "2    Alex Brown   38  22.4          180        Low\n",
            "3  Mary Johnson   60  29.8          240       High\n"
          ]
        }
      ]
    },
    {
      "cell_type": "markdown",
      "source": [
        "# 8️⃣ Exporting Processed Data\n",
        "\n",
        "\n",
        "Save the cleaned patient data as a CSV file:"
      ],
      "metadata": {
        "id": "pykWEmyqWBGG"
      }
    },
    {
      "cell_type": "code",
      "source": [
        "df.to_csv(\"processed_patient_data.csv\", index=False)\n",
        "files.download(\"processed_patient_data.csv\")\n",
        "print(\"\\nProcessed data saved as CSV.\")"
      ],
      "metadata": {
        "colab": {
          "base_uri": "https://localhost:8080/",
          "height": 52
        },
        "id": "rgA7ZQNxWU0X",
        "outputId": "4fb9fea2-58cc-4f84-b634-664f8d78268f"
      },
      "execution_count": 18,
      "outputs": [
        {
          "output_type": "display_data",
          "data": {
            "text/plain": [
              "<IPython.core.display.Javascript object>"
            ],
            "application/javascript": [
              "\n",
              "    async function download(id, filename, size) {\n",
              "      if (!google.colab.kernel.accessAllowed) {\n",
              "        return;\n",
              "      }\n",
              "      const div = document.createElement('div');\n",
              "      const label = document.createElement('label');\n",
              "      label.textContent = `Downloading \"${filename}\": `;\n",
              "      div.appendChild(label);\n",
              "      const progress = document.createElement('progress');\n",
              "      progress.max = size;\n",
              "      div.appendChild(progress);\n",
              "      document.body.appendChild(div);\n",
              "\n",
              "      const buffers = [];\n",
              "      let downloaded = 0;\n",
              "\n",
              "      const channel = await google.colab.kernel.comms.open(id);\n",
              "      // Send a message to notify the kernel that we're ready.\n",
              "      channel.send({})\n",
              "\n",
              "      for await (const message of channel.messages) {\n",
              "        // Send a message to notify the kernel that we're ready.\n",
              "        channel.send({})\n",
              "        if (message.buffers) {\n",
              "          for (const buffer of message.buffers) {\n",
              "            buffers.push(buffer);\n",
              "            downloaded += buffer.byteLength;\n",
              "            progress.value = downloaded;\n",
              "          }\n",
              "        }\n",
              "      }\n",
              "      const blob = new Blob(buffers, {type: 'application/binary'});\n",
              "      const a = document.createElement('a');\n",
              "      a.href = window.URL.createObjectURL(blob);\n",
              "      a.download = filename;\n",
              "      div.appendChild(a);\n",
              "      a.click();\n",
              "      div.remove();\n",
              "    }\n",
              "  "
            ]
          },
          "metadata": {}
        },
        {
          "output_type": "display_data",
          "data": {
            "text/plain": [
              "<IPython.core.display.Javascript object>"
            ],
            "application/javascript": [
              "download(\"download_4200ecba-b77e-42dc-b606-bbace1bf5abb\", \"processed_patient_data.csv\", 149)"
            ]
          },
          "metadata": {}
        },
        {
          "output_type": "stream",
          "name": "stdout",
          "text": [
            "\n",
            "Processed data saved as CSV.\n"
          ]
        }
      ]
    }
  ]
}